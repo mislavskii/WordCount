{
 "cells": [
  {
   "cell_type": "markdown",
   "id": "cb8d5269",
   "metadata": {},
   "source": [
    "# Searching for a string in all documents over a tree of folders."
   ]
  },
  {
   "cell_type": "code",
   "execution_count": 1,
   "id": "8f208dfc",
   "metadata": {},
   "outputs": [],
   "source": [
    "import os\n",
    "\n",
    "from processors import *"
   ]
  },
  {
   "cell_type": "markdown",
   "id": "bf5ae2cf",
   "metadata": {},
   "source": [
    "## In a single document."
   ]
  },
  {
   "cell_type": "code",
   "execution_count": 2,
   "id": "77d07519",
   "metadata": {},
   "outputs": [
    {
     "data": {
      "text/plain": [
       "'/media/mm/DEXP C100/User/Earn/Translate/Thai/Translit/25680415_ThabienBan/image-14-04-25-06-35.docx'"
      ]
     },
     "execution_count": 2,
     "metadata": {},
     "output_type": "execute_result"
    }
   ],
   "source": [
    "path = '/media/mm/DEXP C100/User/Earn/Translate/Thai/Translit/25680415_ThabienBan/image-14-04-25-06-35.docx'\n",
    "path"
   ]
  },
  {
   "cell_type": "code",
   "execution_count": 3,
   "id": "f6aa3cdf",
   "metadata": {},
   "outputs": [],
   "source": [
    "prc = DocProcessor(path)"
   ]
  },
  {
   "cell_type": "code",
   "execution_count": 4,
   "id": "6d43952e",
   "metadata": {},
   "outputs": [
    {
     "data": {
      "text/plain": [
       "['Настоящий документ является официальным свидетельством согласно Правительственному указу о регистрации граждан от 2534 (1991) года, служащим для идентификации, проверки и подтверждения личности, в первую очередь при подаче заявлений о внесении имени гражданина в регистрационную книжку жилища (свидетельство о рождении и уведомление о смене места жительства) или об исключении из регистрационной книжки жилища (свидетельство о смерти), а также имеет отношение к реализации прав и обязанностей граждан в части получения образования, осуществления трудовой деятельности, участия в выборах и т.д.']"
      ]
     },
     "execution_count": 4,
     "metadata": {},
     "output_type": "execute_result"
    }
   ],
   "source": [
    "prc.find('2534')"
   ]
  },
  {
   "cell_type": "markdown",
   "id": "63fb6ad0",
   "metadata": {},
   "source": [
    "## In a folder."
   ]
  },
  {
   "cell_type": "code",
   "execution_count": 7,
   "id": "f5fd25ce",
   "metadata": {},
   "outputs": [
    {
     "data": {
      "text/plain": [
       "'/media/mm/DEXP C100/User/Earn/Translate/Thai/Translit/25680415_ThabienBan'"
      ]
     },
     "execution_count": 7,
     "metadata": {},
     "output_type": "execute_result"
    }
   ],
   "source": [
    "query = '2534'\n",
    "folder = '/media/mm/DEXP C100/User/Earn/Translate/Thai/Translit/25680415_ThabienBan'\n",
    "folder"
   ]
  },
  {
   "cell_type": "code",
   "execution_count": 8,
   "id": "2d5eeda0",
   "metadata": {},
   "outputs": [
    {
     "data": {
      "text/plain": [
       "[(<DirEntry 'image-14-04-25-06-35.docx'>,\n",
       "  ['Настоящий документ является официальным свидетельством согласно Правительственному указу о регистрации граждан от 2534 (1991) года, служащим для идентификации, проверки и подтверждения личности, в первую очередь при подаче заявлений о внесении имени гражданина в регистрационную книжку жилища (свидетельство о рождении и уведомление о смене места жительства) или об исключении из регистрационной книжки жилища (свидетельство о смерти), а также имеет отношение к реализации прав и обязанностей граждан в части получения образования, осуществления трудовой деятельности, участия в выборах и т.д.'])]"
      ]
     },
     "execution_count": 8,
     "metadata": {},
     "output_type": "execute_result"
    }
   ],
   "source": [
    "matches = []\n",
    "docs = [entry for entry in os.scandir(folder) if entry.is_file and entry.name.endswith('.docx')]\n",
    "docs\n",
    "\n",
    "for doc in docs:\n",
    "    prc = DocProcessor(doc.path)\n",
    "    doc_matches = prc.find(query)\n",
    "\n",
    "if doc_matches:\n",
    "    matches.append((doc, doc_matches))\n",
    "\n",
    "matches\n"
   ]
  },
  {
   "cell_type": "code",
   "execution_count": null,
   "id": "5a2cdf6b",
   "metadata": {},
   "outputs": [],
   "source": []
  }
 ],
 "metadata": {
  "kernelspec": {
   "display_name": ".venv",
   "language": "python",
   "name": "python3"
  },
  "language_info": {
   "codemirror_mode": {
    "name": "ipython",
    "version": 3
   },
   "file_extension": ".py",
   "mimetype": "text/x-python",
   "name": "python",
   "nbconvert_exporter": "python",
   "pygments_lexer": "ipython3",
   "version": "3.12.3"
  }
 },
 "nbformat": 4,
 "nbformat_minor": 5
}
