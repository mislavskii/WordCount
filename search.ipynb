{
 "cells": [
  {
   "cell_type": "markdown",
   "id": "cb8d5269",
   "metadata": {},
   "source": [
    "# Searching for a string in all documents over a tree of folders."
   ]
  },
  {
   "cell_type": "code",
   "execution_count": 1,
   "id": "8f208dfc",
   "metadata": {},
   "outputs": [],
   "source": [
    "import os\n",
    "import re\n",
    "from urllib.parse import quote\n",
    "\n",
    "\n",
    "from processors import *"
   ]
  },
  {
   "cell_type": "markdown",
   "id": "bf5ae2cf",
   "metadata": {},
   "source": [
    "## In a single document."
   ]
  },
  {
   "cell_type": "code",
   "execution_count": 2,
   "id": "77d07519",
   "metadata": {},
   "outputs": [
    {
     "data": {
      "text/plain": [
       "'/media/mm/DEXP C100/User/Earn/Translate/ДВУСТОРОНКА Меню вегетарианское_22.10 TH.docx'"
      ]
     },
     "execution_count": 2,
     "metadata": {},
     "output_type": "execute_result"
    }
   ],
   "source": [
    "path = '/media/mm/DEXP C100/User/Earn/Translate/ДВУСТОРОНКА Меню вегетарианское_22.10 TH.docx'\n",
    "path"
   ]
  },
  {
   "cell_type": "code",
   "execution_count": null,
   "id": "f6aa3cdf",
   "metadata": {},
   "outputs": [],
   "source": [
    "prc = DocProcessor(path)"
   ]
  },
  {
   "cell_type": "code",
   "execution_count": 19,
   "id": "6d43952e",
   "metadata": {},
   "outputs": [
    {
     "data": {
      "text/plain": [
       "['Шербет из антоновки']"
      ]
     },
     "execution_count": 19,
     "metadata": {},
     "output_type": "execute_result"
    }
   ],
   "source": [
    "prc.find('Шербет')"
   ]
  },
  {
   "cell_type": "markdown",
   "id": "63fb6ad0",
   "metadata": {},
   "source": [
    "## In a folder."
   ]
  },
  {
   "cell_type": "code",
   "execution_count": 6,
   "id": "0eafad5d",
   "metadata": {},
   "outputs": [],
   "source": [
    "def search_folder(path, query):\n",
    "    matches = []\n",
    "    docs = [entry for entry in os.scandir(path) if entry.is_file() and entry.name.endswith('.docx')]\n",
    "\n",
    "    for doc in docs:\n",
    "        prc = DocProcessor(doc.path)\n",
    "        doc_matches = prc.find(query)\n",
    "        if doc_matches:\n",
    "            matches.append((doc, doc_matches))\n",
    "\n",
    "    return matches"
   ]
  },
  {
   "cell_type": "code",
   "execution_count": 7,
   "id": "f5fd25ce",
   "metadata": {},
   "outputs": [],
   "source": [
    "query = 'антонов'\n",
    "folder = '/media/mm/DEXP C100/User/Earn/Translate'\n",
    "\n",
    "matches = search_folder(folder, query)\n",
    "\n",
    "for file, hits in matches:\n",
    "    print(file)\n",
    "    print(hits)\n",
    "    print()"
   ]
  },
  {
   "cell_type": "markdown",
   "id": "bb856b39",
   "metadata": {},
   "source": [
    "## In a tree."
   ]
  },
  {
   "cell_type": "code",
   "execution_count": 2,
   "id": "2fca072d",
   "metadata": {},
   "outputs": [],
   "source": [
    "def get_doc_matches(path):\n",
    "    try:\n",
    "        prc = DocProcessor(path)\n",
    "    except Exception as e:\n",
    "        print(f'{e.__class__.__name__}: {e}')\n",
    "        return None\n",
    "    return prc.find(query)\n",
    "\n",
    "\n",
    "def search_folder(path, query):\n",
    "    global matches\n",
    "    for entry in os.scandir(path):\n",
    "        if entry.is_dir():\n",
    "            search_folder(entry.path, query)\n",
    "        if entry.is_file() and entry.name.endswith('.docx'):\n",
    "            doc_matches = get_doc_matches(entry.path)\n",
    "            if doc_matches:\n",
    "                matches.append((entry, doc_matches))\n",
    "\n",
    "\n",
    "def output_results():\n",
    "    global matches\n",
    "    for file, hits in matches:\n",
    "        print(file.path, '\\n')\n",
    "        for hit in hits:\n",
    "            print('\\t' + re.sub(query, f'>>{query}<<', hit), '\\n')\n",
    "        print()"
   ]
  },
  {
   "cell_type": "code",
   "execution_count": 3,
   "id": "94742b52",
   "metadata": {},
   "outputs": [],
   "source": [
    "folder = '/media/mm/DEXP C100/User/Earn/Translate/Thai'\n",
    "query = 'собственности на квартиру'"
   ]
  },
  {
   "cell_type": "code",
   "execution_count": 4,
   "id": "855b998c",
   "metadata": {},
   "outputs": [
    {
     "name": "stdout",
     "output_type": "stream",
     "text": [
      "PackageNotFoundError: Package not found at '/media/mm/DEXP C100/User/Earn/Translate/Thai/KM/Текст на тайском транскрибация .docx'\n",
      "PackageNotFoundError: Package not found at '/media/mm/DEXP C100/User/Earn/Translate/Thai/KM/Текст на тайском транскрибация РУС чисто.docx'\n",
      "PackageNotFoundError: Package not found at '/media/mm/DEXP C100/User/Earn/Translate/Thai/KM/Текст на тайском транскрибация РУС.docx'\n",
      "PackageNotFoundError: Package not found at '/media/mm/DEXP C100/User/Earn/Translate/Thai/IrinaRU/Forex/Письма v.2.0/Активация партнёрской программы/Активация партнёрской программы TH.docx'\n",
      "ValueError: no `tc` element at grid_offset=23\n",
      "KeyError: \"There is no item named 'word/NULL' in the archive\"\n"
     ]
    }
   ],
   "source": [
    "matches = []\n",
    "search_folder(folder, query)"
   ]
  },
  {
   "cell_type": "code",
   "execution_count": 5,
   "id": "34a9cdd0",
   "metadata": {},
   "outputs": [
    {
     "name": "stdout",
     "output_type": "stream",
     "text": [
      "/media/mm/DEXP C100/User/Earn/Translate/Thai/R-YAZ/Чанот.docx \n",
      "\n",
      "\tСВИДЕТЕЛЬСТВО О СОБСТВЕННОСТИ НА КВАРТИРУ \n",
      "\n",
      "\n",
      "/media/mm/DEXP C100/User/Earn/Translate/Thai/AntarioM/2016-12-28_11-20-41/тай2.docx \n",
      "\n",
      "\tСВИДЕТЕЛЬСТВО О СОБСТВЕННОСТИ НА КВАРТИРУ \n",
      "\n",
      "\n",
      "/media/mm/DEXP C100/User/Earn/Translate/Thai/AntarioM/2016-12-28_11-20-41/тай4.docx \n",
      "\n",
      "\tСВИДЕТЕЛЬСТВО О СОБСТВЕННОСТИ НА КВАРТИРУ \n",
      "\n",
      "\n",
      "/media/mm/DEXP C100/User/Earn/Translate/Thai/Globica/Kosenko/Сам договор.pdf.docx \n",
      "\n",
      "\tп. 1. Арендодатель является обладателем права >>собственности на квартиру<< № \tC613\t\t , \n",
      "этаж \t\t6\t , жилой комплекс \t«Эрайз Вайб Пхукет»\t , округ Си-Сунтон, район Таланг, провинция Пхукет, оценочная площадь \t59,56\t квадратных метров, которая в дальнейшем в тексте настоящего Договора именуется «Арендуемое имущество». \n",
      "\n",
      "\n",
      "/media/mm/DEXP C100/User/Earn/Translate/Thai/Globica/Raymond/2.docx \n",
      "\n",
      "\tСВИДЕТЕЛЬСТВО О ПРАВЕ СОБСТВЕННОСТИ НА КВАРТИРУ. \n",
      "\n",
      "\n",
      "/media/mm/DEXP C100/User/Earn/Translate/Thai/Gosperevod/Eva/тайские суд доки1.docx \n",
      "\n",
      "\tпереводом (документы №№ Ро.1 – Ро.3 в материалах дела). Согласно копии свидетельства о смерти (документ № Ро.4 в материалах дела), покойный скончался 3 мая 2560 (2017) года, оставив завещание, по которому Заявитель назначается распорядителем наследственного имущества, а также наследует часть этого имущества, что подтверждается копией завещания покойного с переводом (документ Ро.5 в материалах дела). Известное наследственное имущество включает в себя долю собственности в квартире №496/78, этаж 4, корпус 4, «Атлантис Кондо Рисорт Паттая», а также денежные средства на счетах в банке «ООО Бангкок Банк (ПАО)» отделение «Центральное» и отделение «Паттая Ныа», что подтверждается копией свидетельства о >>собственности на квартиру<< и копиями сберегательных книжек (документы № Ро.7 – Ро.9 в материалах дела). При распоряжении наследственным имуществом возникли препятствия, так как Заявитель обратилась с заявлением о вступлении в распоряжение вышеуказанным имуществом для распределения между наследниками, однако отвечающими за это должностными лицами было указано, что для выполнения данных действий требуется решение суда о назначении распорядителя наследственным имуществом. Заявитель является совершеннолетней, находится в здравом уме, не была признана в судебном порядке лицом, утратившим дееспособность, или банкротом. \n",
      "\n",
      "\n",
      "/media/mm/DEXP C100/User/Earn/Translate/Thai/perevodchik.ru/03-008-19_RU.docx \n",
      "\n",
      "\tСВИДЕТЕЛЬСТВО О ПРАВЕ СОБСТВЕННОСТИ НА КВАРТИРУ \n",
      "\n",
      "\n",
      "/media/mm/DEXP C100/User/Earn/Translate/Thai/полуслова/spoluslova.ru_2022-08-04_19-41/WP-389-1129-723-724.docx \n",
      "\n",
      "\tСВИДЕТЕЛЬСТВО О СОБСТВЕННОСТИ НА КВАРТИРУ \n",
      "\n",
      "\n",
      "/media/mm/DEXP C100/User/Earn/Translate/Thai/полуслова/spoluslova.ru_2022-08-04_19-41/WP-723 724 - POA (Power of Attorney) Mr. Kirill.docx \n",
      "\n",
      "\tЦель выдачи: приобретение права >>собственности на квартиру<< \n",
      "\n",
      "\n",
      "/media/mm/DEXP C100/User/Earn/Translate/Thai/Прима Виста/тестовое/Тестовое задание 2- тайский, юридическая, документация.docx \n",
      "\n",
      "\tСвидетельство о праве >>собственности на квартиру<< \n",
      "\n",
      "\n",
      "/media/mm/DEXP C100/User/Earn/Translate/Thai/Чудинова/chudoj71@mail.ru_2017-02-08_13-43-36/ДОГОВОР ПРОДАЖИ.docx \n",
      "\n",
      "\t3. Право >>собственности на квартиру<< было приобретено Продавцом в результате покупки 15 января 2542 (1999) г., задолженности по уплате местного налога не имеется, обязательства в связи с арендой отсутствуют. \n",
      "\n",
      "\n"
     ]
    }
   ],
   "source": [
    "output_results()"
   ]
  },
  {
   "cell_type": "code",
   "execution_count": 1,
   "id": "fb9139ba",
   "metadata": {},
   "outputs": [],
   "source": [
    "from search import StringFinder as sf"
   ]
  },
  {
   "cell_type": "code",
   "execution_count": 2,
   "id": "0bc7e2e3",
   "metadata": {},
   "outputs": [],
   "source": [
    "folder = '/media/mm/DEXP C100/User/Earn/Translate/Thai'\n",
    "query = 'собственности на квартиру'"
   ]
  },
  {
   "cell_type": "code",
   "execution_count": 3,
   "id": "5a2cdf6b",
   "metadata": {},
   "outputs": [
    {
     "name": "stdout",
     "output_type": "stream",
     "text": [
      "PackageNotFoundError: Package not found at '/media/mm/DEXP C100/User/Earn/Translate/Thai/KM/Текст на тайском транскрибация .docx'\n",
      "PackageNotFoundError: Package not found at '/media/mm/DEXP C100/User/Earn/Translate/Thai/KM/Текст на тайском транскрибация РУС чисто.docx'\n",
      "PackageNotFoundError: Package not found at '/media/mm/DEXP C100/User/Earn/Translate/Thai/KM/Текст на тайском транскрибация РУС.docx'\n",
      "PackageNotFoundError: Package not found at '/media/mm/DEXP C100/User/Earn/Translate/Thai/IrinaRU/Forex/Письма v.2.0/Активация партнёрской программы/Активация партнёрской программы TH.docx'\n",
      "ValueError: no `tc` element at grid_offset=23\n",
      "KeyError: \"There is no item named 'word/NULL' in the archive\"\n",
      "/media/mm/DEXP C100/User/Earn/Translate/Thai/Globica/Kosenko/Сам договор.pdf.docx 2025-02-05 21:08:05\n",
      "\tп. 1. Арендодатель является обладателем права >>собственности на квартиру<< № \tC613\t\t , \n",
      "этаж \t\t6\t , жилой комплекс \t«Эрайз Вайб Пхукет»\t , округ Си-Сунтон, район Таланг, провинция Пхукет, оценочная площадь \t59,56\t квадратных метров, которая в дальнейшем в тексте настоящего Договора именуется «Арендуемое имущество». \n",
      "\n",
      "\n",
      "/media/mm/DEXP C100/User/Earn/Translate/Thai/Прима Виста/тестовое/Тестовое задание 2- тайский, юридическая, документация.docx 2024-07-11 20:49:14\n",
      "\tСвидетельство о праве >>собственности на квартиру<< \n",
      "\n",
      "\n",
      "/media/mm/DEXP C100/User/Earn/Translate/Thai/R-YAZ/Чанот.docx 2023-10-30 14:58:43\n",
      "\tСВИДЕТЕЛЬСТВО О СОБСТВЕННОСТИ НА КВАРТИРУ \n",
      "\n",
      "\n",
      "/media/mm/DEXP C100/User/Earn/Translate/Thai/полуслова/spoluslova.ru_2022-08-04_19-41/WP-389-1129-723-724.docx 2022-08-05 10:28:44\n",
      "\tСВИДЕТЕЛЬСТВО О СОБСТВЕННОСТИ НА КВАРТИРУ \n",
      "\n",
      "\n",
      "/media/mm/DEXP C100/User/Earn/Translate/Thai/полуслова/spoluslova.ru_2022-08-04_19-41/WP-723 724 - POA (Power of Attorney) Mr. Kirill.docx 2022-08-05 10:17:05\n",
      "\tЦель выдачи: приобретение права >>собственности на квартиру<< \n",
      "\n",
      "\n",
      "/media/mm/DEXP C100/User/Earn/Translate/Thai/Globica/Raymond/2.docx 2021-10-01 15:23:02\n",
      "\tСВИДЕТЕЛЬСТВО О ПРАВЕ СОБСТВЕННОСТИ НА КВАРТИРУ. \n",
      "\n",
      "\n",
      "/media/mm/DEXP C100/User/Earn/Translate/Thai/perevodchik.ru/03-008-19_RU.docx 2019-03-14 12:08:49\n",
      "\tСВИДЕТЕЛЬСТВО О ПРАВЕ СОБСТВЕННОСТИ НА КВАРТИРУ \n",
      "\n",
      "\n",
      "/media/mm/DEXP C100/User/Earn/Translate/Thai/Чудинова/chudoj71@mail.ru_2017-02-08_13-43-36/ДОГОВОР ПРОДАЖИ.docx 2018-04-14 01:15:25\n",
      "\t3. Право >>собственности на квартиру<< было приобретено Продавцом в результате покупки 15 января 2542 (1999) г., задолженности по уплате местного налога не имеется, обязательства в связи с арендой отсутствуют. \n",
      "\n",
      "\n",
      "/media/mm/DEXP C100/User/Earn/Translate/Thai/AntarioM/2016-12-28_11-20-41/тай4.docx 2018-04-14 01:15:13\n",
      "\tСВИДЕТЕЛЬСТВО О СОБСТВЕННОСТИ НА КВАРТИРУ \n",
      "\n",
      "\n",
      "/media/mm/DEXP C100/User/Earn/Translate/Thai/AntarioM/2016-12-28_11-20-41/тай2.docx 2018-04-14 01:15:08\n",
      "\tСВИДЕТЕЛЬСТВО О СОБСТВЕННОСТИ НА КВАРТИРУ \n",
      "\n",
      "\n",
      "/media/mm/DEXP C100/User/Earn/Translate/Thai/Gosperevod/Eva/тайские суд доки1.docx 2018-04-14 01:14:56\n",
      "\tпереводом (документы №№ Ро.1 – Ро.3 в материалах дела). Согласно копии свидетельства о смерти (документ № Ро.4 в материалах дела), покойный скончался 3 мая 2560 (2017) года, оставив завещание, по которому Заявитель назначается распорядителем наследственного имущества, а также наследует часть этого имущества, что подтверждается копией завещания покойного с переводом (документ Ро.5 в материалах дела). Известное наследственное имущество включает в себя долю собственности в квартире №496/78, этаж 4, корпус 4, «Атлантис Кондо Рисорт Паттая», а также денежные средства на счетах в банке «ООО Бангкок Банк (ПАО)» отделение «Центральное» и отделение «Паттая Ныа», что подтверждается копией свидетельства о >>собственности на квартиру<< и копиями сберегательных книжек (документы № Ро.7 – Ро.9 в материалах дела). При распоряжении наследственным имуществом возникли препятствия, так как Заявитель обратилась с заявлением о вступлении в распоряжение вышеуказанным имуществом для распределения между наследниками, однако отвечающими за это должностными лицами было указано, что для выполнения данных действий требуется решение суда о назначении распорядителя наследственным имуществом. Заявитель является совершеннолетней, находится в здравом уме, не была признана в судебном порядке лицом, утратившим дееспособность, или банкротом. \n",
      "\n",
      "\n"
     ]
    }
   ],
   "source": [
    "x = sf(query)\n",
    "x.search_folder(folder)\n",
    "x.output_results()"
   ]
  }
 ],
 "metadata": {
  "kernelspec": {
   "display_name": ".venv",
   "language": "python",
   "name": "python3"
  },
  "language_info": {
   "codemirror_mode": {
    "name": "ipython",
    "version": 3
   },
   "file_extension": ".py",
   "mimetype": "text/x-python",
   "name": "python",
   "nbconvert_exporter": "python",
   "pygments_lexer": "ipython3",
   "version": "3.12.3"
  }
 },
 "nbformat": 4,
 "nbformat_minor": 5
}
