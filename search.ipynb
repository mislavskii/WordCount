{
 "cells": [
  {
   "cell_type": "markdown",
   "id": "cb8d5269",
   "metadata": {},
   "source": [
    "# Searching for a string in all documents over a tree of folders."
   ]
  },
  {
   "cell_type": "code",
   "execution_count": 4,
   "id": "8f208dfc",
   "metadata": {},
   "outputs": [],
   "source": [
    "import os\n",
    "\n",
    "from processors import *"
   ]
  },
  {
   "cell_type": "markdown",
   "id": "bf5ae2cf",
   "metadata": {},
   "source": [
    "## In a single document."
   ]
  },
  {
   "cell_type": "code",
   "execution_count": 11,
   "id": "77d07519",
   "metadata": {},
   "outputs": [
    {
     "data": {
      "text/plain": [
       "'/home/mm/USER/Earn/Translate/ДВУСТОРОНКА Меню вегетарианское_22.10 TH.docx'"
      ]
     },
     "execution_count": 11,
     "metadata": {},
     "output_type": "execute_result"
    }
   ],
   "source": [
    "path = '/home/mm/USER/Earn/Translate/ДВУСТОРОНКА Меню вегетарианское_22.10 TH.docx'\n",
    "path"
   ]
  },
  {
   "cell_type": "code",
   "execution_count": 13,
   "id": "f6aa3cdf",
   "metadata": {},
   "outputs": [],
   "source": [
    "prc = DocProcessor(path)"
   ]
  },
  {
   "cell_type": "code",
   "execution_count": 14,
   "id": "6d43952e",
   "metadata": {},
   "outputs": [
    {
     "data": {
      "text/plain": [
       "['Шербет из антоновки']"
      ]
     },
     "execution_count": 14,
     "metadata": {},
     "output_type": "execute_result"
    }
   ],
   "source": [
    "prc.find('Шербет')"
   ]
  },
  {
   "cell_type": "markdown",
   "id": "63fb6ad0",
   "metadata": {},
   "source": [
    "## In a folder."
   ]
  },
  {
   "cell_type": "code",
   "execution_count": 26,
   "id": "0eafad5d",
   "metadata": {},
   "outputs": [],
   "source": [
    "def search_folder(path, query):\n",
    "    matches = []\n",
    "    docs = [entry for entry in os.scandir(path) if entry.is_file and entry.name.endswith('.docx')]\n",
    "    docs\n",
    "\n",
    "    for doc in docs:\n",
    "        prc = DocProcessor(doc.path)\n",
    "        doc_matches = prc.find(query)\n",
    "        if doc_matches:\n",
    "            matches.append((doc, doc_matches))\n",
    "\n",
    "    return matches"
   ]
  },
  {
   "cell_type": "code",
   "execution_count": 28,
   "id": "f5fd25ce",
   "metadata": {},
   "outputs": [
    {
     "name": "stdout",
     "output_type": "stream",
     "text": [
      "<DirEntry 'ДВУСТОРОНКА Меню основное_22.10_TH.docx'>\n",
      "['Шербет из антоновки']\n",
      "\n",
      "<DirEntry 'ДВУСТОРОНКА Меню вегетарианское_22.10 TH.docx'>\n",
      "['Шербет из антоновки']\n",
      "\n",
      "<DirEntry 'ДВУСТОРОНКА Меню основное_23.10_TH.docx'>\n",
      "['Шербет из антоновки']\n",
      "\n"
     ]
    }
   ],
   "source": [
    "query = 'антонов'\n",
    "folder = '/home/mm/USER/Earn/Translate'\n",
    "\n",
    "matches = search_folder(folder, query)\n",
    "\n",
    "for file, finds in matches:\n",
    "    print(file)\n",
    "    print(finds)\n",
    "    print()"
   ]
  },
  {
   "cell_type": "code",
   "execution_count": 24,
   "id": "2d5eeda0",
   "metadata": {},
   "outputs": [
    {
     "name": "stdout",
     "output_type": "stream",
     "text": [
      "<DirEntry 'ДВУСТОРОНКА Меню вегетарианское_22.10 TH.docx'>\n",
      "['Брокколи с ореховым соусом']\n",
      "\n"
     ]
    }
   ],
   "source": [
    "matches = []\n",
    "docs = [entry for entry in os.scandir(folder) if entry.is_file and entry.name.endswith('.docx')]\n",
    "docs\n",
    "\n",
    "for doc in docs:\n",
    "    prc = DocProcessor(doc.path)\n",
    "    doc_matches = prc.find(query)\n",
    "    if doc_matches:\n",
    "        matches.append((doc, doc_matches))\n",
    "\n",
    "for file, finds in matches:\n",
    "    print(file)\n",
    "    print(finds)\n",
    "    print()\n"
   ]
  },
  {
   "cell_type": "code",
   "execution_count": null,
   "id": "5a2cdf6b",
   "metadata": {},
   "outputs": [],
   "source": []
  }
 ],
 "metadata": {
  "kernelspec": {
   "display_name": ".venv",
   "language": "python",
   "name": "python3"
  },
  "language_info": {
   "codemirror_mode": {
    "name": "ipython",
    "version": 3
   },
   "file_extension": ".py",
   "mimetype": "text/x-python",
   "name": "python",
   "nbconvert_exporter": "python",
   "pygments_lexer": "ipython3",
   "version": "3.12.3"
  }
 },
 "nbformat": 4,
 "nbformat_minor": 5
}
