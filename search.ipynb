{
 "cells": [
  {
   "cell_type": "markdown",
   "id": "cb8d5269",
   "metadata": {},
   "source": [
    "# Searching for a string in all documents over a tree of folders."
   ]
  },
  {
   "cell_type": "code",
   "execution_count": 4,
   "id": "8f208dfc",
   "metadata": {},
   "outputs": [],
   "source": [
    "import os\n",
    "\n",
    "from processors import *"
   ]
  },
  {
   "cell_type": "markdown",
   "id": "bf5ae2cf",
   "metadata": {},
   "source": [
    "## In a single document."
   ]
  },
  {
   "cell_type": "code",
   "execution_count": 11,
   "id": "77d07519",
   "metadata": {},
   "outputs": [
    {
     "data": {
      "text/plain": [
       "'/home/mm/USER/Earn/Translate/ДВУСТОРОНКА Меню вегетарианское_22.10 TH.docx'"
      ]
     },
     "execution_count": 11,
     "metadata": {},
     "output_type": "execute_result"
    }
   ],
   "source": [
    "path = '/home/mm/USER/Earn/Translate/ДВУСТОРОНКА Меню вегетарианское_22.10 TH.docx'\n",
    "path"
   ]
  },
  {
   "cell_type": "code",
   "execution_count": 13,
   "id": "f6aa3cdf",
   "metadata": {},
   "outputs": [],
   "source": [
    "prc = DocProcessor(path)"
   ]
  },
  {
   "cell_type": "code",
   "execution_count": 14,
   "id": "6d43952e",
   "metadata": {},
   "outputs": [
    {
     "data": {
      "text/plain": [
       "['Шербет из антоновки']"
      ]
     },
     "execution_count": 14,
     "metadata": {},
     "output_type": "execute_result"
    }
   ],
   "source": [
    "prc.find('Шербет')"
   ]
  },
  {
   "cell_type": "markdown",
   "id": "63fb6ad0",
   "metadata": {},
   "source": [
    "## In a folder."
   ]
  },
  {
   "cell_type": "code",
   "execution_count": 32,
   "id": "0eafad5d",
   "metadata": {},
   "outputs": [],
   "source": [
    "def search_folder(path, query):\n",
    "    matches = []\n",
    "    docs = [entry for entry in os.scandir(path) if entry.is_file() and entry.name.endswith('.docx')]\n",
    "\n",
    "    for doc in docs:\n",
    "        prc = DocProcessor(doc.path)\n",
    "        doc_matches = prc.find(query)\n",
    "        if doc_matches:\n",
    "            matches.append((doc, doc_matches))\n",
    "\n",
    "    return matches"
   ]
  },
  {
   "cell_type": "code",
   "execution_count": 33,
   "id": "f5fd25ce",
   "metadata": {},
   "outputs": [
    {
     "name": "stdout",
     "output_type": "stream",
     "text": [
      "<DirEntry 'ДВУСТОРОНКА Меню основное_22.10_TH.docx'>\n",
      "['Шербет из антоновки']\n",
      "\n",
      "<DirEntry 'ДВУСТОРОНКА Меню вегетарианское_22.10 TH.docx'>\n",
      "['Шербет из антоновки']\n",
      "\n",
      "<DirEntry 'ДВУСТОРОНКА Меню основное_23.10_TH.docx'>\n",
      "['Шербет из антоновки']\n",
      "\n"
     ]
    }
   ],
   "source": [
    "query = 'антонов'\n",
    "folder = '/home/mm/USER/Earn/Translate'\n",
    "\n",
    "matches = search_folder(folder, query)\n",
    "\n",
    "for file, finds in matches:\n",
    "    print(file)\n",
    "    print(finds)\n",
    "    print()"
   ]
  },
  {
   "cell_type": "markdown",
   "id": "bb856b39",
   "metadata": {},
   "source": [
    "## In a tree."
   ]
  },
  {
   "cell_type": "code",
   "execution_count": null,
   "id": "2fca072d",
   "metadata": {},
   "outputs": [],
   "source": [
    "def search_folder(path, query):\n",
    "    global matches\n",
    "    for entry in os.scandir(path):\n",
    "        if entry.is_dir():\n",
    "            search_folder(entry.path, query)\n",
    "        if entry.is_file() and entry.name.endswith('.docx'):\n",
    "            prc = DocProcessor(entry.path)\n",
    "            doc_matches = prc.find(query)\n",
    "            if doc_matches:\n",
    "                matches.append((entry, doc_matches))"
   ]
  },
  {
   "cell_type": "code",
   "execution_count": 63,
   "id": "94742b52",
   "metadata": {},
   "outputs": [],
   "source": [
    "folder = '/media/mm/DEXP C100/User/Earn/Translate/Thai'\n",
    "query = '2534'"
   ]
  },
  {
   "cell_type": "code",
   "execution_count": 64,
   "id": "855b998c",
   "metadata": {},
   "outputs": [
    {
     "ename": "PackageNotFoundError",
     "evalue": "Package not found at '/media/mm/DEXP C100/User/Earn/Translate/Thai/KM/Текст на тайском транскрибация .docx'",
     "output_type": "error",
     "traceback": [
      "\u001b[31m---------------------------------------------------------------------------\u001b[39m",
      "\u001b[31mPackageNotFoundError\u001b[39m                      Traceback (most recent call last)",
      "\u001b[36mCell\u001b[39m\u001b[36m \u001b[39m\u001b[32mIn[64]\u001b[39m\u001b[32m, line 2\u001b[39m\n\u001b[32m      1\u001b[39m matches = []\n\u001b[32m----> \u001b[39m\u001b[32m2\u001b[39m \u001b[43msearch_folder\u001b[49m\u001b[43m(\u001b[49m\u001b[43mfolder\u001b[49m\u001b[43m,\u001b[49m\u001b[43m \u001b[49m\u001b[43mquery\u001b[49m\u001b[43m)\u001b[49m\n\u001b[32m      4\u001b[39m \u001b[38;5;28;01mfor\u001b[39;00m file, finds \u001b[38;5;129;01min\u001b[39;00m matches:\n\u001b[32m      5\u001b[39m     \u001b[38;5;28mprint\u001b[39m(file.path)\n",
      "\u001b[36mCell\u001b[39m\u001b[36m \u001b[39m\u001b[32mIn[58]\u001b[39m\u001b[32m, line 6\u001b[39m, in \u001b[36msearch_folder\u001b[39m\u001b[34m(path, query)\u001b[39m\n\u001b[32m      3\u001b[39m \u001b[38;5;28;01mfor\u001b[39;00m entry \u001b[38;5;129;01min\u001b[39;00m os.scandir(path):\n\u001b[32m      4\u001b[39m     \u001b[38;5;28;01mif\u001b[39;00m entry.is_dir():\n\u001b[32m      5\u001b[39m         \u001b[38;5;66;03m# print(entry.path)\u001b[39;00m\n\u001b[32m----> \u001b[39m\u001b[32m6\u001b[39m         \u001b[43msearch_folder\u001b[49m\u001b[43m(\u001b[49m\u001b[43mentry\u001b[49m\u001b[43m.\u001b[49m\u001b[43mpath\u001b[49m\u001b[43m,\u001b[49m\u001b[43m \u001b[49m\u001b[43mquery\u001b[49m\u001b[43m)\u001b[49m\n\u001b[32m      7\u001b[39m     \u001b[38;5;28;01mif\u001b[39;00m entry.is_file() \u001b[38;5;129;01mand\u001b[39;00m entry.name.endswith(\u001b[33m'\u001b[39m\u001b[33m.docx\u001b[39m\u001b[33m'\u001b[39m):\n\u001b[32m      8\u001b[39m         \u001b[38;5;66;03m# print('\\t', entry.path)\u001b[39;00m\n\u001b[32m      9\u001b[39m         prc = DocProcessor(entry.path)\n",
      "\u001b[36mCell\u001b[39m\u001b[36m \u001b[39m\u001b[32mIn[58]\u001b[39m\u001b[32m, line 9\u001b[39m, in \u001b[36msearch_folder\u001b[39m\u001b[34m(path, query)\u001b[39m\n\u001b[32m      6\u001b[39m     search_folder(entry.path, query)\n\u001b[32m      7\u001b[39m \u001b[38;5;28;01mif\u001b[39;00m entry.is_file() \u001b[38;5;129;01mand\u001b[39;00m entry.name.endswith(\u001b[33m'\u001b[39m\u001b[33m.docx\u001b[39m\u001b[33m'\u001b[39m):\n\u001b[32m      8\u001b[39m     \u001b[38;5;66;03m# print('\\t', entry.path)\u001b[39;00m\n\u001b[32m----> \u001b[39m\u001b[32m9\u001b[39m     prc = \u001b[43mDocProcessor\u001b[49m\u001b[43m(\u001b[49m\u001b[43mentry\u001b[49m\u001b[43m.\u001b[49m\u001b[43mpath\u001b[49m\u001b[43m)\u001b[49m\n\u001b[32m     10\u001b[39m     doc_matches = prc.find(query)\n\u001b[32m     11\u001b[39m     \u001b[38;5;66;03m# print('\\t', doc_matches)\u001b[39;00m\n",
      "\u001b[36mFile \u001b[39m\u001b[32m/media/mm/DEXP C100/User/Data/Endeavors/WordCount/processors.py:68\u001b[39m, in \u001b[36mDocProcessor.__init__\u001b[39m\u001b[34m(self, path)\u001b[39m\n\u001b[32m     67\u001b[39m \u001b[38;5;28;01mdef\u001b[39;00m\u001b[38;5;250m \u001b[39m\u001b[34m__init__\u001b[39m(\u001b[38;5;28mself\u001b[39m, path):\n\u001b[32m---> \u001b[39m\u001b[32m68\u001b[39m     \u001b[38;5;28mself\u001b[39m.document = \u001b[43mDocument\u001b[49m\u001b[43m(\u001b[49m\u001b[43mpath\u001b[49m\u001b[43m)\u001b[49m\n\u001b[32m     69\u001b[39m     \u001b[38;5;28mself\u001b[39m.get_paragraphs()\n\u001b[32m     70\u001b[39m     \u001b[38;5;28mself\u001b[39m.get_russian_words()\n",
      "\u001b[36mFile \u001b[39m\u001b[32m/media/mm/DEXP C100/User/Data/Endeavors/WordCount/.venv/lib/python3.12/site-packages/docx/api.py:27\u001b[39m, in \u001b[36mDocument\u001b[39m\u001b[34m(docx)\u001b[39m\n\u001b[32m     20\u001b[39m \u001b[38;5;250m\u001b[39m\u001b[33;03m\"\"\"Return a |Document| object loaded from `docx`, where `docx` can be either a path\u001b[39;00m\n\u001b[32m     21\u001b[39m \u001b[33;03mto a ``.docx`` file (a string) or a file-like object.\u001b[39;00m\n\u001b[32m     22\u001b[39m \n\u001b[32m     23\u001b[39m \u001b[33;03mIf `docx` is missing or ``None``, the built-in default document \"template\" is\u001b[39;00m\n\u001b[32m     24\u001b[39m \u001b[33;03mloaded.\u001b[39;00m\n\u001b[32m     25\u001b[39m \u001b[33;03m\"\"\"\u001b[39;00m\n\u001b[32m     26\u001b[39m docx = _default_docx_path() \u001b[38;5;28;01mif\u001b[39;00m docx \u001b[38;5;129;01mis\u001b[39;00m \u001b[38;5;28;01mNone\u001b[39;00m \u001b[38;5;28;01melse\u001b[39;00m docx\n\u001b[32m---> \u001b[39m\u001b[32m27\u001b[39m document_part = cast(\u001b[33m\"\u001b[39m\u001b[33mDocumentPart\u001b[39m\u001b[33m\"\u001b[39m, \u001b[43mPackage\u001b[49m\u001b[43m.\u001b[49m\u001b[43mopen\u001b[49m\u001b[43m(\u001b[49m\u001b[43mdocx\u001b[49m\u001b[43m)\u001b[49m.main_document_part)\n\u001b[32m     28\u001b[39m \u001b[38;5;28;01mif\u001b[39;00m document_part.content_type != CT.WML_DOCUMENT_MAIN:\n\u001b[32m     29\u001b[39m     tmpl = \u001b[33m\"\u001b[39m\u001b[33mfile \u001b[39m\u001b[33m'\u001b[39m\u001b[38;5;132;01m%s\u001b[39;00m\u001b[33m'\u001b[39m\u001b[33m is not a Word file, content type is \u001b[39m\u001b[33m'\u001b[39m\u001b[38;5;132;01m%s\u001b[39;00m\u001b[33m'\u001b[39m\u001b[33m\"\u001b[39m\n",
      "\u001b[36mFile \u001b[39m\u001b[32m/media/mm/DEXP C100/User/Data/Endeavors/WordCount/.venv/lib/python3.12/site-packages/docx/opc/package.py:127\u001b[39m, in \u001b[36mOpcPackage.open\u001b[39m\u001b[34m(cls, pkg_file)\u001b[39m\n\u001b[32m    124\u001b[39m \u001b[38;5;129m@classmethod\u001b[39m\n\u001b[32m    125\u001b[39m \u001b[38;5;28;01mdef\u001b[39;00m\u001b[38;5;250m \u001b[39m\u001b[34mopen\u001b[39m(\u001b[38;5;28mcls\u001b[39m, pkg_file: \u001b[38;5;28mstr\u001b[39m | IO[\u001b[38;5;28mbytes\u001b[39m]) -> OpcPackage:\n\u001b[32m    126\u001b[39m \u001b[38;5;250m    \u001b[39m\u001b[33;03m\"\"\"Return an |OpcPackage| instance loaded with the contents of `pkg_file`.\"\"\"\u001b[39;00m\n\u001b[32m--> \u001b[39m\u001b[32m127\u001b[39m     pkg_reader = \u001b[43mPackageReader\u001b[49m\u001b[43m.\u001b[49m\u001b[43mfrom_file\u001b[49m\u001b[43m(\u001b[49m\u001b[43mpkg_file\u001b[49m\u001b[43m)\u001b[49m\n\u001b[32m    128\u001b[39m     package = \u001b[38;5;28mcls\u001b[39m()\n\u001b[32m    129\u001b[39m     Unmarshaller.unmarshal(pkg_reader, package, PartFactory)\n",
      "\u001b[36mFile \u001b[39m\u001b[32m/media/mm/DEXP C100/User/Data/Endeavors/WordCount/.venv/lib/python3.12/site-packages/docx/opc/pkgreader.py:22\u001b[39m, in \u001b[36mPackageReader.from_file\u001b[39m\u001b[34m(pkg_file)\u001b[39m\n\u001b[32m     19\u001b[39m \u001b[38;5;129m@staticmethod\u001b[39m\n\u001b[32m     20\u001b[39m \u001b[38;5;28;01mdef\u001b[39;00m\u001b[38;5;250m \u001b[39m\u001b[34mfrom_file\u001b[39m(pkg_file):\n\u001b[32m     21\u001b[39m \u001b[38;5;250m    \u001b[39m\u001b[33;03m\"\"\"Return a |PackageReader| instance loaded with contents of `pkg_file`.\"\"\"\u001b[39;00m\n\u001b[32m---> \u001b[39m\u001b[32m22\u001b[39m     phys_reader = \u001b[43mPhysPkgReader\u001b[49m\u001b[43m(\u001b[49m\u001b[43mpkg_file\u001b[49m\u001b[43m)\u001b[49m\n\u001b[32m     23\u001b[39m     content_types = _ContentTypeMap.from_xml(phys_reader.content_types_xml)\n\u001b[32m     24\u001b[39m     pkg_srels = PackageReader._srels_for(phys_reader, PACKAGE_URI)\n",
      "\u001b[36mFile \u001b[39m\u001b[32m/media/mm/DEXP C100/User/Data/Endeavors/WordCount/.venv/lib/python3.12/site-packages/docx/opc/phys_pkg.py:21\u001b[39m, in \u001b[36mPhysPkgReader.__new__\u001b[39m\u001b[34m(cls, pkg_file)\u001b[39m\n\u001b[32m     19\u001b[39m         reader_cls = _ZipPkgReader\n\u001b[32m     20\u001b[39m     \u001b[38;5;28;01melse\u001b[39;00m:\n\u001b[32m---> \u001b[39m\u001b[32m21\u001b[39m         \u001b[38;5;28;01mraise\u001b[39;00m PackageNotFoundError(\u001b[33m\"\u001b[39m\u001b[33mPackage not found at \u001b[39m\u001b[33m'\u001b[39m\u001b[38;5;132;01m%s\u001b[39;00m\u001b[33m'\u001b[39m\u001b[33m\"\u001b[39m % pkg_file)\n\u001b[32m     22\u001b[39m \u001b[38;5;28;01melse\u001b[39;00m:  \u001b[38;5;66;03m# assume it's a stream and pass it to Zip reader to sort out\u001b[39;00m\n\u001b[32m     23\u001b[39m     reader_cls = _ZipPkgReader\n",
      "\u001b[31mPackageNotFoundError\u001b[39m: Package not found at '/media/mm/DEXP C100/User/Earn/Translate/Thai/KM/Текст на тайском транскрибация .docx'"
     ]
    }
   ],
   "source": [
    "matches = []\n",
    "search_folder(folder, query)\n",
    "\n",
    "for file, finds in matches:\n",
    "    print(file.path)\n",
    "    for find in finds:\n",
    "        print('\\t' + find)\n",
    "    print()"
   ]
  },
  {
   "cell_type": "code",
   "execution_count": null,
   "id": "fb9139ba",
   "metadata": {},
   "outputs": [],
   "source": []
  },
  {
   "cell_type": "code",
   "execution_count": 24,
   "id": "2d5eeda0",
   "metadata": {},
   "outputs": [
    {
     "name": "stdout",
     "output_type": "stream",
     "text": [
      "<DirEntry 'ДВУСТОРОНКА Меню вегетарианское_22.10 TH.docx'>\n",
      "['Брокколи с ореховым соусом']\n",
      "\n"
     ]
    }
   ],
   "source": [
    "matches = []\n",
    "docs = [entry for entry in os.scandir(folder) if entry.is_file and entry.name.endswith('.docx')]\n",
    "docs\n",
    "\n",
    "for doc in docs:\n",
    "    prc = DocProcessor(doc.path)\n",
    "    doc_matches = prc.find(query)\n",
    "    if doc_matches:\n",
    "        matches.append((doc, doc_matches))\n",
    "\n",
    "for file, finds in matches:\n",
    "    print(file)\n",
    "    print(finds)\n",
    "    print()\n"
   ]
  },
  {
   "cell_type": "code",
   "execution_count": null,
   "id": "5a2cdf6b",
   "metadata": {},
   "outputs": [],
   "source": []
  }
 ],
 "metadata": {
  "kernelspec": {
   "display_name": ".venv",
   "language": "python",
   "name": "python3"
  },
  "language_info": {
   "codemirror_mode": {
    "name": "ipython",
    "version": 3
   },
   "file_extension": ".py",
   "mimetype": "text/x-python",
   "name": "python",
   "nbconvert_exporter": "python",
   "pygments_lexer": "ipython3",
   "version": "3.12.3"
  }
 },
 "nbformat": 4,
 "nbformat_minor": 5
}
