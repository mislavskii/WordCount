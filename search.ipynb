{
 "cells": [
  {
   "cell_type": "markdown",
   "id": "cb8d5269",
   "metadata": {},
   "source": [
    "# Searching for a string in all documents over a tree of folders."
   ]
  },
  {
   "cell_type": "code",
   "execution_count": 1,
   "id": "8f208dfc",
   "metadata": {},
   "outputs": [],
   "source": [
    "import os\n",
    "import re\n",
    "from urllib.parse import quote\n",
    "\n",
    "\n",
    "from processors import *"
   ]
  },
  {
   "cell_type": "markdown",
   "id": "bf5ae2cf",
   "metadata": {},
   "source": [
    "## In a single document."
   ]
  },
  {
   "cell_type": "code",
   "execution_count": 2,
   "id": "77d07519",
   "metadata": {},
   "outputs": [
    {
     "data": {
      "text/plain": [
       "'/media/mm/DEXP C100/User/Earn/Translate/ДВУСТОРОНКА Меню вегетарианское_22.10 TH.docx'"
      ]
     },
     "execution_count": 2,
     "metadata": {},
     "output_type": "execute_result"
    }
   ],
   "source": [
    "path = '/media/mm/DEXP C100/User/Earn/Translate/ДВУСТОРОНКА Меню вегетарианское_22.10 TH.docx'\n",
    "path"
   ]
  },
  {
   "cell_type": "code",
   "execution_count": 3,
   "id": "f6aa3cdf",
   "metadata": {},
   "outputs": [
    {
     "ename": "PackageNotFoundError",
     "evalue": "Package not found at '/media/mm/DEXP C100/User/Earn/Translate/ДВУСТОРОНКА Меню вегетарианское_22.10 TH.docx'",
     "output_type": "error",
     "traceback": [
      "\u001b[31m---------------------------------------------------------------------------\u001b[39m",
      "\u001b[31mPackageNotFoundError\u001b[39m                      Traceback (most recent call last)",
      "\u001b[36mCell\u001b[39m\u001b[36m \u001b[39m\u001b[32mIn[3]\u001b[39m\u001b[32m, line 1\u001b[39m\n\u001b[32m----> \u001b[39m\u001b[32m1\u001b[39m prc = \u001b[43mDocProcessor\u001b[49m\u001b[43m(\u001b[49m\u001b[43mpath\u001b[49m\u001b[43m)\u001b[49m\n",
      "\u001b[36mFile \u001b[39m\u001b[32m/media/mm/DEXP C100/User/Data/Endeavors/WordCount/processors.py:68\u001b[39m, in \u001b[36mDocProcessor.__init__\u001b[39m\u001b[34m(self, path)\u001b[39m\n\u001b[32m     67\u001b[39m \u001b[38;5;28;01mdef\u001b[39;00m\u001b[38;5;250m \u001b[39m\u001b[34m__init__\u001b[39m(\u001b[38;5;28mself\u001b[39m, path):\n\u001b[32m---> \u001b[39m\u001b[32m68\u001b[39m     \u001b[38;5;28mself\u001b[39m.document = \u001b[43mDocument\u001b[49m\u001b[43m(\u001b[49m\u001b[43mpath\u001b[49m\u001b[43m)\u001b[49m\n\u001b[32m     69\u001b[39m     \u001b[38;5;28mself\u001b[39m.get_paragraphs()\n\u001b[32m     70\u001b[39m     \u001b[38;5;28mself\u001b[39m.get_russian_words()\n",
      "\u001b[36mFile \u001b[39m\u001b[32m/media/mm/DEXP C100/User/Data/Endeavors/WordCount/.venv/lib/python3.12/site-packages/docx/api.py:27\u001b[39m, in \u001b[36mDocument\u001b[39m\u001b[34m(docx)\u001b[39m\n\u001b[32m     20\u001b[39m \u001b[38;5;250m\u001b[39m\u001b[33;03m\"\"\"Return a |Document| object loaded from `docx`, where `docx` can be either a path\u001b[39;00m\n\u001b[32m     21\u001b[39m \u001b[33;03mto a ``.docx`` file (a string) or a file-like object.\u001b[39;00m\n\u001b[32m     22\u001b[39m \n\u001b[32m     23\u001b[39m \u001b[33;03mIf `docx` is missing or ``None``, the built-in default document \"template\" is\u001b[39;00m\n\u001b[32m     24\u001b[39m \u001b[33;03mloaded.\u001b[39;00m\n\u001b[32m     25\u001b[39m \u001b[33;03m\"\"\"\u001b[39;00m\n\u001b[32m     26\u001b[39m docx = _default_docx_path() \u001b[38;5;28;01mif\u001b[39;00m docx \u001b[38;5;129;01mis\u001b[39;00m \u001b[38;5;28;01mNone\u001b[39;00m \u001b[38;5;28;01melse\u001b[39;00m docx\n\u001b[32m---> \u001b[39m\u001b[32m27\u001b[39m document_part = cast(\u001b[33m\"\u001b[39m\u001b[33mDocumentPart\u001b[39m\u001b[33m\"\u001b[39m, \u001b[43mPackage\u001b[49m\u001b[43m.\u001b[49m\u001b[43mopen\u001b[49m\u001b[43m(\u001b[49m\u001b[43mdocx\u001b[49m\u001b[43m)\u001b[49m.main_document_part)\n\u001b[32m     28\u001b[39m \u001b[38;5;28;01mif\u001b[39;00m document_part.content_type != CT.WML_DOCUMENT_MAIN:\n\u001b[32m     29\u001b[39m     tmpl = \u001b[33m\"\u001b[39m\u001b[33mfile \u001b[39m\u001b[33m'\u001b[39m\u001b[38;5;132;01m%s\u001b[39;00m\u001b[33m'\u001b[39m\u001b[33m is not a Word file, content type is \u001b[39m\u001b[33m'\u001b[39m\u001b[38;5;132;01m%s\u001b[39;00m\u001b[33m'\u001b[39m\u001b[33m\"\u001b[39m\n",
      "\u001b[36mFile \u001b[39m\u001b[32m/media/mm/DEXP C100/User/Data/Endeavors/WordCount/.venv/lib/python3.12/site-packages/docx/opc/package.py:127\u001b[39m, in \u001b[36mOpcPackage.open\u001b[39m\u001b[34m(cls, pkg_file)\u001b[39m\n\u001b[32m    124\u001b[39m \u001b[38;5;129m@classmethod\u001b[39m\n\u001b[32m    125\u001b[39m \u001b[38;5;28;01mdef\u001b[39;00m\u001b[38;5;250m \u001b[39m\u001b[34mopen\u001b[39m(\u001b[38;5;28mcls\u001b[39m, pkg_file: \u001b[38;5;28mstr\u001b[39m | IO[\u001b[38;5;28mbytes\u001b[39m]) -> OpcPackage:\n\u001b[32m    126\u001b[39m \u001b[38;5;250m    \u001b[39m\u001b[33;03m\"\"\"Return an |OpcPackage| instance loaded with the contents of `pkg_file`.\"\"\"\u001b[39;00m\n\u001b[32m--> \u001b[39m\u001b[32m127\u001b[39m     pkg_reader = \u001b[43mPackageReader\u001b[49m\u001b[43m.\u001b[49m\u001b[43mfrom_file\u001b[49m\u001b[43m(\u001b[49m\u001b[43mpkg_file\u001b[49m\u001b[43m)\u001b[49m\n\u001b[32m    128\u001b[39m     package = \u001b[38;5;28mcls\u001b[39m()\n\u001b[32m    129\u001b[39m     Unmarshaller.unmarshal(pkg_reader, package, PartFactory)\n",
      "\u001b[36mFile \u001b[39m\u001b[32m/media/mm/DEXP C100/User/Data/Endeavors/WordCount/.venv/lib/python3.12/site-packages/docx/opc/pkgreader.py:22\u001b[39m, in \u001b[36mPackageReader.from_file\u001b[39m\u001b[34m(pkg_file)\u001b[39m\n\u001b[32m     19\u001b[39m \u001b[38;5;129m@staticmethod\u001b[39m\n\u001b[32m     20\u001b[39m \u001b[38;5;28;01mdef\u001b[39;00m\u001b[38;5;250m \u001b[39m\u001b[34mfrom_file\u001b[39m(pkg_file):\n\u001b[32m     21\u001b[39m \u001b[38;5;250m    \u001b[39m\u001b[33;03m\"\"\"Return a |PackageReader| instance loaded with contents of `pkg_file`.\"\"\"\u001b[39;00m\n\u001b[32m---> \u001b[39m\u001b[32m22\u001b[39m     phys_reader = \u001b[43mPhysPkgReader\u001b[49m\u001b[43m(\u001b[49m\u001b[43mpkg_file\u001b[49m\u001b[43m)\u001b[49m\n\u001b[32m     23\u001b[39m     content_types = _ContentTypeMap.from_xml(phys_reader.content_types_xml)\n\u001b[32m     24\u001b[39m     pkg_srels = PackageReader._srels_for(phys_reader, PACKAGE_URI)\n",
      "\u001b[36mFile \u001b[39m\u001b[32m/media/mm/DEXP C100/User/Data/Endeavors/WordCount/.venv/lib/python3.12/site-packages/docx/opc/phys_pkg.py:21\u001b[39m, in \u001b[36mPhysPkgReader.__new__\u001b[39m\u001b[34m(cls, pkg_file)\u001b[39m\n\u001b[32m     19\u001b[39m         reader_cls = _ZipPkgReader\n\u001b[32m     20\u001b[39m     \u001b[38;5;28;01melse\u001b[39;00m:\n\u001b[32m---> \u001b[39m\u001b[32m21\u001b[39m         \u001b[38;5;28;01mraise\u001b[39;00m PackageNotFoundError(\u001b[33m\"\u001b[39m\u001b[33mPackage not found at \u001b[39m\u001b[33m'\u001b[39m\u001b[38;5;132;01m%s\u001b[39;00m\u001b[33m'\u001b[39m\u001b[33m\"\u001b[39m % pkg_file)\n\u001b[32m     22\u001b[39m \u001b[38;5;28;01melse\u001b[39;00m:  \u001b[38;5;66;03m# assume it's a stream and pass it to Zip reader to sort out\u001b[39;00m\n\u001b[32m     23\u001b[39m     reader_cls = _ZipPkgReader\n",
      "\u001b[31mPackageNotFoundError\u001b[39m: Package not found at '/media/mm/DEXP C100/User/Earn/Translate/ДВУСТОРОНКА Меню вегетарианское_22.10 TH.docx'"
     ]
    }
   ],
   "source": [
    "prc = DocProcessor(path)"
   ]
  },
  {
   "cell_type": "code",
   "execution_count": 19,
   "id": "6d43952e",
   "metadata": {},
   "outputs": [
    {
     "data": {
      "text/plain": [
       "['Шербет из антоновки']"
      ]
     },
     "execution_count": 19,
     "metadata": {},
     "output_type": "execute_result"
    }
   ],
   "source": [
    "prc.find('Шербет')"
   ]
  },
  {
   "cell_type": "markdown",
   "id": "63fb6ad0",
   "metadata": {},
   "source": [
    "## In a folder."
   ]
  },
  {
   "cell_type": "code",
   "execution_count": 6,
   "id": "0eafad5d",
   "metadata": {},
   "outputs": [],
   "source": [
    "def search_folder(path, query):\n",
    "    matches = []\n",
    "    docs = [entry for entry in os.scandir(path) if entry.is_file() and entry.name.endswith('.docx')]\n",
    "\n",
    "    for doc in docs:\n",
    "        prc = DocProcessor(doc.path)\n",
    "        doc_matches = prc.find(query)\n",
    "        if doc_matches:\n",
    "            matches.append((doc, doc_matches))\n",
    "\n",
    "    return matches"
   ]
  },
  {
   "cell_type": "code",
   "execution_count": 7,
   "id": "f5fd25ce",
   "metadata": {},
   "outputs": [],
   "source": [
    "query = 'антонов'\n",
    "folder = '/media/mm/DEXP C100/User/Earn/Translate'\n",
    "\n",
    "matches = search_folder(folder, query)\n",
    "\n",
    "for file, hits in matches:\n",
    "    print(file)\n",
    "    print(hits)\n",
    "    print()"
   ]
  },
  {
   "cell_type": "markdown",
   "id": "bb856b39",
   "metadata": {},
   "source": [
    "## In a tree."
   ]
  },
  {
   "cell_type": "code",
   "execution_count": 4,
   "id": "2fca072d",
   "metadata": {},
   "outputs": [],
   "source": [
    "def get_doc_matches(path):\n",
    "    try:\n",
    "        prc = DocProcessor(path)\n",
    "    except Exception as e:\n",
    "        print(f'{e.__class__.__name__}: {e}')\n",
    "        return None\n",
    "    return prc.find(query)\n",
    "\n",
    "\n",
    "def search_folder(path, query):\n",
    "    global matches\n",
    "    for entry in os.scandir(path):\n",
    "        if entry.is_dir():\n",
    "            search_folder(entry.path, query)\n",
    "        if entry.is_file() and entry.name.endswith('.docx'):\n",
    "            doc_matches = get_doc_matches(entry.path)\n",
    "            if doc_matches:\n",
    "                matches.append((entry, doc_matches))\n",
    "\n",
    "\n",
    "def output_results():\n",
    "    global matches\n",
    "    for file, hits in matches:\n",
    "        print(file.path, '\\n')\n",
    "        for hit in hits:\n",
    "            print('\\t' + re.sub(query, f'>>{query}<<', hit), '\\n')\n",
    "        print()"
   ]
  },
  {
   "cell_type": "code",
   "execution_count": 2,
   "id": "94742b52",
   "metadata": {},
   "outputs": [],
   "source": [
    "folder = '/media/mm/DEXP C100/User/Earn/Translate/Thai'\n",
    "query = 'Registered capital'"
   ]
  },
  {
   "cell_type": "code",
   "execution_count": 5,
   "id": "855b998c",
   "metadata": {},
   "outputs": [
    {
     "name": "stdout",
     "output_type": "stream",
     "text": [
      "PackageNotFoundError: Package not found at '/media/mm/DEXP C100/User/Earn/Translate/Thai/KM/Текст на тайском транскрибация .docx'\n",
      "PackageNotFoundError: Package not found at '/media/mm/DEXP C100/User/Earn/Translate/Thai/KM/Текст на тайском транскрибация РУС чисто.docx'\n",
      "PackageNotFoundError: Package not found at '/media/mm/DEXP C100/User/Earn/Translate/Thai/KM/Текст на тайском транскрибация РУС.docx'\n",
      "PackageNotFoundError: Package not found at '/media/mm/DEXP C100/User/Earn/Translate/Thai/IrinaRU/Forex/Письма v.2.0/Активация партнёрской программы/Активация партнёрской программы TH.docx'\n",
      "ValueError: no `tc` element at grid_offset=23\n",
      "KeyError: \"There is no item named 'word/NULL' in the archive\"\n"
     ]
    }
   ],
   "source": [
    "matches = []\n",
    "search_folder(folder, query)"
   ]
  },
  {
   "cell_type": "code",
   "execution_count": 6,
   "id": "34a9cdd0",
   "metadata": {},
   "outputs": [
    {
     "name": "stdout",
     "output_type": "stream",
     "text": [
      "/media/mm/DEXP C100/User/Earn/Translate/Thai/AlexKZ/Ultra Purity Certificate ENG.docx \n",
      "\n",
      "\t4. >>Registered capital<<: 1,000,000.00 baht /exactly one million baht/. \n",
      "\n",
      "\n",
      "/media/mm/DEXP C100/User/Earn/Translate/Thai/IrinaRU/Public Hearing/OPINION SURVEY DOCUMENT.docx \n",
      "\n",
      "\t2) have paid registered capital of no less than 5 million baht \n",
      "\n",
      "\n"
     ]
    }
   ],
   "source": [
    "output_results()"
   ]
  },
  {
   "cell_type": "code",
   "execution_count": null,
   "id": "fb9139ba",
   "metadata": {},
   "outputs": [],
   "source": []
  },
  {
   "cell_type": "code",
   "execution_count": null,
   "id": "5a2cdf6b",
   "metadata": {},
   "outputs": [],
   "source": []
  }
 ],
 "metadata": {
  "kernelspec": {
   "display_name": ".venv",
   "language": "python",
   "name": "python3"
  },
  "language_info": {
   "codemirror_mode": {
    "name": "ipython",
    "version": 3
   },
   "file_extension": ".py",
   "mimetype": "text/x-python",
   "name": "python",
   "nbconvert_exporter": "python",
   "pygments_lexer": "ipython3",
   "version": "3.12.3"
  }
 },
 "nbformat": 4,
 "nbformat_minor": 5
}
